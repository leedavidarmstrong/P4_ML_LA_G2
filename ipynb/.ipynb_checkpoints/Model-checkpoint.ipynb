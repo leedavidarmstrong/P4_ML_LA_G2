{
 "cells": [
  {
   "cell_type": "markdown",
   "id": "7f2c3211",
   "metadata": {
    "id": "7f2c3211"
   },
   "source": [
    "\n",
    "# Model\n"
   ]
  },
  {
   "cell_type": "code",
   "execution_count": 38,
   "id": "b334d647-ba3d-43af-a6ad-9aa61d457b3a",
   "metadata": {
    "executionInfo": {
     "elapsed": 7039,
     "status": "ok",
     "timestamp": 1704272829414,
     "user": {
      "displayName": "lee armstrong",
      "userId": "10522861586921998093"
     },
     "user_tz": -480
    },
    "id": "b334d647-ba3d-43af-a6ad-9aa61d457b3a",
    "tags": []
   },
   "outputs": [],
   "source": [
    "# Import Libraries and Dependencies\n",
    "\n",
    "import findspark\n",
    "findspark.init()\n",
    "\n",
    "import os\n",
    "import pandas as pd\n",
    "import numpy as np\n",
    "import matplotlib.pyplot as plt\n",
    "import seaborn as sns\n",
    "\n",
    "from pyspark.sql import SparkSession\n",
    "from sklearn.preprocessing import MinMaxScaler, LabelEncoder\n",
    "from keras.models import Sequential, load_model\n",
    "from keras.layers import LSTM, Dense, Dropout, Bidirectional, BatchNormalization\n",
    "from sklearn.model_selection import train_test_split\n",
    "from keras.callbacks import EarlyStopping, ModelCheckpoint\n",
    "from keras.optimizers import Adam\n",
    "from sklearn.metrics import mean_squared_error, accuracy_score, confusion_matrix, precision_recall_curve, auc, r2_score\n",
    "from keras.regularizers import l1_l2\n"
   ]
  },
  {
   "cell_type": "code",
   "execution_count": 39,
   "id": "b7b4811e-6c06-41c1-ae43-6b1f588e4e82",
   "metadata": {},
   "outputs": [],
   "source": [
    "# Initialise Spark Session for large-scale data processing\n",
    "spark = SparkSession.builder.appName(\"LSTMModel\").getOrCreate()\n"
   ]
  },
  {
   "cell_type": "code",
   "execution_count": 3,
   "id": "b6d94740-2814-48db-b277-67d22cf96307",
   "metadata": {},
   "outputs": [],
   "source": [
    "# Read data using Spark\n",
    "df_spark = spark.read.csv('Data/F6_Transformed_Data.csv', header=True, inferSchema=True)\n",
    "# Preprocessing and transformation steps performed in the Data_Analysis.ipynb\n"
   ]
  },
  {
   "cell_type": "code",
   "execution_count": 4,
   "id": "5827e9b1-e4a4-4a00-91df-beaad96fb81c",
   "metadata": {},
   "outputs": [],
   "source": [
    "# Convert Spark DataFrame to Pandas DataFrame for easier manipulation\n",
    "data = df_spark.toPandas()"
   ]
  },
  {
   "cell_type": "code",
   "execution_count": 5,
   "id": "c8dab831-db4d-40b0-aa06-ea83b4349bc6",
   "metadata": {
    "executionInfo": {
     "elapsed": 8,
     "status": "ok",
     "timestamp": 1704272883191,
     "user": {
      "displayName": "lee armstrong",
      "userId": "10522861586921998093"
     },
     "user_tz": -480
    },
    "id": "c8dab831-db4d-40b0-aa06-ea83b4349bc6",
    "tags": []
   },
   "outputs": [],
   "source": [
    "# Data Preprocessing\n",
    "# Extracting the year from the date and filtering data based on specific years\n",
    "data['Year'] = pd.to_datetime(data['Date']).dt.year\n",
    "\n",
    "filtered_data = data[data['Year'].isin([2020, 2021, 2022, 2023, 2024, 2025])]\n"
   ]
  },
  {
   "cell_type": "code",
   "execution_count": 6,
   "id": "2d4e53d5-ec9d-4707-89f9-8ccc849bdf87",
   "metadata": {
    "tags": []
   },
   "outputs": [],
   "source": [
    "# # Feature Scaling - Normalising features to aid in model training\n",
    "# # Creating an instance of label encoder\n",
    "# label_encoder = LabelEncoder()\n",
    "\n",
    "# # Assuming 'Criteria' is a categorical column that needs to be converted\n",
    "# filtered_data['Criteria'] = label_encoder.fit_transform(filtered_data['Criteria'])\n",
    "\n",
    "# Initialize MinMaxScaler\n",
    "scaler = MinMaxScaler(feature_range=(0, 1))\n",
    "\n",
    "# Scale the data\n",
    "scaled_data = scaler.fit_transform(filtered_data[['Degree', 'Length', 'Thickness', 'Thickness_Difference', 'Original Thickness', 'Year']])\n",
    "#scaled_data = scaler.fit_transform(filtered_data[['Degree', 'Length', 'Thickness', 'Thickness_Difference', 'Original Thickness', 'Year', 'Criteria']])\n"
   ]
  },
  {
   "cell_type": "code",
   "execution_count": 7,
   "id": "5deb046e-fd66-4a47-988f-17e4d05912e5",
   "metadata": {
    "executionInfo": {
     "elapsed": 7,
     "status": "ok",
     "timestamp": 1704272883192,
     "user": {
      "displayName": "lee armstrong",
      "userId": "10522861586921998093"
     },
     "user_tz": -480
    },
    "id": "5deb046e-fd66-4a47-988f-17e4d05912e5",
    "tags": []
   },
   "outputs": [],
   "source": [
    "# Function to create a dataset suitable for LSTM training\n",
    "def create_dataset(dataset, look_back=1):\n",
    "    X, Y = [], []\n",
    "    for i in range(len(dataset)-look_back-1):\n",
    "        a = dataset[i:(i+look_back), :]\n",
    "        X.append(a)\n",
    "        Y.append(dataset[i + look_back, -1])  # Modify to select the appropriate target variable\n",
    "    return np.array(X), np.array(Y)"
   ]
  },
  {
   "cell_type": "code",
   "execution_count": 8,
   "id": "80d41f04-bd93-42bd-8a64-2ee8f061a2c2",
   "metadata": {
    "executionInfo": {
     "elapsed": 553,
     "status": "ok",
     "timestamp": 1704272883739,
     "user": {
      "displayName": "lee armstrong",
      "userId": "10522861586921998093"
     },
     "user_tz": -480
    },
    "id": "80d41f04-bd93-42bd-8a64-2ee8f061a2c2",
    "tags": []
   },
   "outputs": [],
   "source": [
    "# Preparing data for LSTM model\n",
    "look_back = 3\n",
    "X, y = create_dataset(scaled_data, look_back)"
   ]
  },
  {
   "cell_type": "code",
   "execution_count": 9,
   "id": "1b012742-3b38-49da-acb4-b6c8f5022e80",
   "metadata": {},
   "outputs": [],
   "source": [
    "# Defining a threshold for classification\n",
    "THRESHOLD = 0.75\n",
    "y_binary = np.where(y < THRESHOLD, 1, 0)\n",
    "# y_train_binary = (y_train > THRESHOLD).astype(int)\n",
    "# y_test_binary = (y_test > THRESHOLD).astype(int)\n",
    "\n",
    "# Splitting the dataset into training and testing sets\n",
    "X_train, X_test, y_train_binary, y_test_binary = train_test_split(X, y_binary, test_size=0.2, random_state=42)\n"
   ]
  },
  {
   "cell_type": "code",
   "execution_count": 10,
   "id": "62f1a42f-46e3-48bc-8b06-a1379d5c9bff",
   "metadata": {},
   "outputs": [],
   "source": [
    "# Reshaping data for LSTM input\n",
    "# X_train = np.reshape(X_train, (X_train.shape[0], X_train.shape[1], 3))\n",
    "# X_test = np.reshape(X_test, (X_test.shape[0], X_test.shape[1], 3))\n",
    "X_train = np.reshape(X_train, (X_train.shape[0], X_train.shape[1], X.shape[2]))\n",
    "X_test = np.reshape(X_test, (X_test.shape[0], X_test.shape[1], X.shape[2]))\n"
   ]
  },
  {
   "cell_type": "code",
   "execution_count": 11,
   "id": "d4110d93-7f57-4ff0-92ed-1ca3323319a1",
   "metadata": {
    "executionInfo": {
     "elapsed": 1592,
     "status": "ok",
     "timestamp": 1704272885327,
     "user": {
      "displayName": "lee armstrong",
      "userId": "10522861586921998093"
     },
     "user_tz": -480
    },
    "id": "d4110d93-7f57-4ff0-92ed-1ca3323319a1",
    "tags": []
   },
   "outputs": [],
   "source": [
    "\n",
    "# # # Optimisation\n",
    "# # # LSTM Model Creation\n",
    "# # model = Sequential()\n",
    "# # model.add(Bidirectional(LSTM(100, return_sequences=True), input_shape=(look_back, 3)))\n",
    "\n",
    "\n",
    "# # LSTM Model Creation\n",
    "# model = Sequential()\n",
    "# model.add(Bidirectional(LSTM(100, return_sequences=True), input_shape=(look_back, X.shape[2])))\n",
    "# # Increase Model Complexity to Address Underfitting, Reduce Regularization applied regularization (L1/L2), reducing it can help if the model is underfitting.\n",
    "# model.add(Dense(128, activation='relu', kernel_regularizer=l1_l2(l1=1e-5, l2=1e-4))) # Increase neurons\n",
    "# model.add(BatchNormalization())\n",
    "# # Add dropout layers to model to prevent overfitting\n",
    "# model.add(Dropout(0.2))  # Adjust dropout rate as needed\n",
    "# model.add(Bidirectional(LSTM(50)))\n",
    "# # Add dropout layers to model to prevent overfitting\n",
    "# model.add(Dropout(0.5))  # Adjust dropout rate as needed\n",
    "# # model.add(Dense(1, activation='linear'))\n",
    "# # Increase Model Complexity to Address Underfitting\n",
    "# model.add(Dense(64, activation='relu'))   # Add more layers\n",
    "# model.add(Dense(1, activation='sigmoid'))  # Output layer for binary classification\n",
    "# model.compile(optimizer=Adam(learning_rate=0.0005), loss='binary_crossentropy', metrics=['accuracy'])\n",
    "\n",
    "# # model.add(Dense(1, activation='sigmoid'))\n"
   ]
  },
  {
   "cell_type": "code",
   "execution_count": 12,
   "id": "78742e40-6a8e-4621-98f4-18dc3eab7c7f",
   "metadata": {},
   "outputs": [],
   "source": [
    "# # LSTM Model rev B\n",
    "# model = Sequential()\n",
    "# model.add(Bidirectional(LSTM(100, return_sequences=True), input_shape=(look_back, 3)))\n",
    "# model.add(Dense(64, activation='relu', kernel_regularizer=l1_l2(l1=1e-5, l2=1e-4))) # Reduce Regularization applied regularization (L1/L2), reducing it can help if the model is underfitting.\n",
    "# model.add(BatchNormalization())\n",
    "# model.add(Dropout(0.2)) # Add dropout layers to model to prevent overfitting, adjust dropout rate as needed\n",
    "# model.add(Bidirectional(LSTM(50)))\n",
    "# model.add(Dropout(0.2))# Add dropout layers to model to prevent overfitting, adjust dropout rate as needed\n",
    "# model.add(Dense(1, activation='sigmoid')) # Output layer for binary classification\n"
   ]
  },
  {
   "cell_type": "code",
   "execution_count": 13,
   "id": "fc9a8ad9-c624-472b-b7c2-7a446e3d7919",
   "metadata": {},
   "outputs": [
    {
     "name": "stdout",
     "output_type": "stream",
     "text": [
      "WARNING:tensorflow:From C:\\Users\\unsto\\anaconda3\\Lib\\site-packages\\keras\\src\\backend.py:873: The name tf.get_default_graph is deprecated. Please use tf.compat.v1.get_default_graph instead.\n",
      "\n"
     ]
    }
   ],
   "source": [
    "# LSTM Model rev C\n",
    "model = Sequential()\n",
    "model.add(Bidirectional(LSTM(128, return_sequences=True), input_shape=(look_back, X_train.shape[2])))\n",
    "model.add(Dropout(0.3))\n",
    "model.add(Bidirectional(LSTM(64)))\n",
    "model.add(Dropout(0.3))\n",
    "model.add(Dense(32, activation='relu'))\n",
    "model.add(Dense(1, activation='sigmoid'))\n",
    "model.compile(optimizer=Adam(learning_rate=0.001), loss='binary_crossentropy', metrics=['accuracy'])"
   ]
  },
  {
   "cell_type": "code",
   "execution_count": 14,
   "id": "fb6ca709-14a0-48ff-857d-f25b32d45ccc",
   "metadata": {
    "executionInfo": {
     "elapsed": 3,
     "status": "ok",
     "timestamp": 1704272885327,
     "user": {
      "displayName": "lee armstrong",
      "userId": "10522861586921998093"
     },
     "user_tz": -480
    },
    "id": "fb6ca709-14a0-48ff-857d-f25b32d45ccc",
    "tags": []
   },
   "outputs": [],
   "source": [
    "# Compiling the model for binary classification\n",
    "adam_optimizer = Adam(learning_rate=0.0005)  # Adjust learning rate for optimisation\n",
    "model.compile(optimizer=adam_optimizer, loss='binary_crossentropy', metrics=['accuracy'])\n",
    "# model.compile(loss='binary_crossentropy', optimizer='adam', metrics=['accuracy'])\n"
   ]
  },
  {
   "cell_type": "code",
   "execution_count": 15,
   "id": "6bef261c-26ea-4d5b-8509-6834e4c21847",
   "metadata": {},
   "outputs": [],
   "source": [
    "# Early stopping to prevent overfitting and checkpointing to save the best model\n",
    "early_stopping = EarlyStopping(monitor='val_loss', patience=10, restore_best_weights=True)\n",
    "\n",
    "checkpoint_loss = ModelCheckpoint('best_model_val_loss.h5', monitor='val_loss', save_best_only=True)\n",
    "# model_checkpoint = ModelCheckpoint('best_model.keras', monitor='val_loss', save_best_only=True)\n",
    "\n",
    "# checkpoint_acc = ModelCheckpoint('best_model_accuracy.h5', monitor='accuracy', save_best_only=True)\n",
    "# model_checkpoint = ModelCheckpoint('best_model.keras', monitor='accuracy', save_best_only=True)\n"
   ]
  },
  {
   "cell_type": "code",
   "execution_count": 16,
   "id": "5f03c515-c63e-48b6-a9c9-d40ec342db66",
   "metadata": {},
   "outputs": [
    {
     "name": "stdout",
     "output_type": "stream",
     "text": [
      "Epoch 1/100\n",
      "WARNING:tensorflow:From C:\\Users\\unsto\\anaconda3\\Lib\\site-packages\\keras\\src\\utils\\tf_utils.py:492: The name tf.ragged.RaggedTensorValue is deprecated. Please use tf.compat.v1.ragged.RaggedTensorValue instead.\n",
      "\n",
      "WARNING:tensorflow:From C:\\Users\\unsto\\anaconda3\\Lib\\site-packages\\keras\\src\\engine\\base_layer_utils.py:384: The name tf.executing_eagerly_outside_functions is deprecated. Please use tf.compat.v1.executing_eagerly_outside_functions instead.\n",
      "\n",
      "2160/2160 [==============================] - 34s 12ms/step - loss: 0.0116 - accuracy: 0.9985 - val_loss: 8.2527e-04 - val_accuracy: 0.9999\n",
      "Epoch 2/100\n",
      "  11/2160 [..............................] - ETA: 21s - loss: 5.4495e-06 - accuracy: 1.0000"
     ]
    },
    {
     "name": "stderr",
     "output_type": "stream",
     "text": [
      "C:\\Users\\unsto\\anaconda3\\Lib\\site-packages\\keras\\src\\engine\\training.py:3103: UserWarning: You are saving your model as an HDF5 file via `model.save()`. This file format is considered legacy. We recommend using instead the native Keras format, e.g. `model.save('my_model.keras')`.\n",
      "  saving_api.save_model(\n"
     ]
    },
    {
     "name": "stdout",
     "output_type": "stream",
     "text": [
      "2160/2160 [==============================] - 23s 11ms/step - loss: 1.1814e-05 - accuracy: 1.0000 - val_loss: 9.8516e-04 - val_accuracy: 0.9999\n",
      "Epoch 3/100\n",
      "2160/2160 [==============================] - 23s 11ms/step - loss: 8.5982e-04 - accuracy: 0.9998 - val_loss: 8.1849e-04 - val_accuracy: 0.9999\n",
      "Epoch 4/100\n",
      "2160/2160 [==============================] - 23s 11ms/step - loss: 2.5756e-06 - accuracy: 1.0000 - val_loss: 9.3116e-04 - val_accuracy: 0.9999\n",
      "Epoch 5/100\n",
      "2160/2160 [==============================] - 23s 11ms/step - loss: 5.2112e-07 - accuracy: 1.0000 - val_loss: 0.0010 - val_accuracy: 0.9999\n",
      "Epoch 6/100\n",
      "2160/2160 [==============================] - 24s 11ms/step - loss: 9.0670e-05 - accuracy: 1.0000 - val_loss: 0.0010 - val_accuracy: 0.9999\n",
      "Epoch 7/100\n",
      "2160/2160 [==============================] - 24s 11ms/step - loss: 1.7661e-04 - accuracy: 1.0000 - val_loss: 0.0012 - val_accuracy: 0.9999\n",
      "Epoch 8/100\n",
      "2160/2160 [==============================] - 24s 11ms/step - loss: 3.4536e-07 - accuracy: 1.0000 - val_loss: 0.0013 - val_accuracy: 0.9999\n",
      "Epoch 9/100\n",
      "2160/2160 [==============================] - 24s 11ms/step - loss: 1.5369e-07 - accuracy: 1.0000 - val_loss: 0.0014 - val_accuracy: 0.9999\n",
      "Epoch 10/100\n",
      "2160/2160 [==============================] - 24s 11ms/step - loss: 4.4593e-08 - accuracy: 1.0000 - val_loss: 0.0014 - val_accuracy: 0.9999\n",
      "Epoch 11/100\n",
      "2160/2160 [==============================] - 25s 11ms/step - loss: 2.2256e-08 - accuracy: 1.0000 - val_loss: 0.0015 - val_accuracy: 0.9999\n",
      "Epoch 12/100\n",
      "2160/2160 [==============================] - 25s 11ms/step - loss: 6.9205e-09 - accuracy: 1.0000 - val_loss: 0.0015 - val_accuracy: 0.9999\n",
      "Epoch 13/100\n",
      "2160/2160 [==============================] - 24s 11ms/step - loss: 2.8651e-09 - accuracy: 1.0000 - val_loss: 0.0016 - val_accuracy: 0.9999\n"
     ]
    }
   ],
   "source": [
    "# Model Training\n",
    "history = model.fit(X_train, y_train_binary, epochs=100, batch_size=32, validation_split=0.2, callbacks=[early_stopping, checkpoint_loss])\n",
    "# history = model.fit(X_train, y_train, epochs=200, batch_size=32, validation_split=0.2, callbacks=[early_stopping, checkpoint_loss])\n"
   ]
  },
  {
   "cell_type": "markdown",
   "id": "8ad42926-09da-4e88-b54f-675d1cf4fe1e",
   "metadata": {},
   "source": [
    "# Model Evaluation"
   ]
  },
  {
   "cell_type": "markdown",
   "id": "cabe745e-6783-47f4-b6d4-0d413e91e308",
   "metadata": {},
   "source": [
    "# Testing LSTM model on a sampled dataset"
   ]
  },
  {
   "cell_type": "code",
   "execution_count": 58,
   "id": "78a89f28-3983-41e9-802a-9485cdded543",
   "metadata": {
    "tags": []
   },
   "outputs": [],
   "source": [
    "# Load the Sampled Dataset\n",
    "# Read data using Spark\n",
    "sampled_df_spark = spark.read.csv('Data/Sampled_F6_Transformed_Data.csv', header=True, inferSchema=True)\n",
    "# Preprocessing and transformation steps performed in the Data_Analysis.ipynb\n"
   ]
  },
  {
   "cell_type": "code",
   "execution_count": 59,
   "id": "5570d9a0-b800-45fd-a076-acf678e8f9fa",
   "metadata": {
    "tags": []
   },
   "outputs": [],
   "source": [
    "# Sampled Dataset\n",
    "# Convert Spark DataFrame to Pandas DataFrame for easier manipulation\n",
    "sampled_data = sampled_df_spark.toPandas()\n"
   ]
  },
  {
   "cell_type": "code",
   "execution_count": 60,
   "id": "3e7a8551-2192-4d72-b811-f122c928a91d",
   "metadata": {
    "tags": []
   },
   "outputs": [],
   "source": [
    "# Sampled Dataset\n",
    "# Data Preprocessing\n",
    "# Extracting the year from the date and filtering data based on specific years\n",
    "sampled_data['Year'] = pd.to_datetime(sampled_data['Date']).dt.year\n",
    "\n",
    "sampled_filtered_data = sampled_data[sampled_data['Year'].isin([2020, 2021, 2022, 2023, 2024, 2025])]\n"
   ]
  },
  {
   "cell_type": "code",
   "execution_count": 61,
   "id": "6a89f564-90e6-4d64-ac22-5f0f19f98484",
   "metadata": {
    "tags": []
   },
   "outputs": [],
   "source": [
    "# Sampled Dataset\n",
    "# # Feature Scaling - Normalising features to aid in model training\n",
    "# # Creating an instance of label encoder\n",
    "# label_encoder = LabelEncoder()\n",
    "\n",
    "# # Assuming 'Criteria' is a categorical column that needs to be converted\n",
    "# sampled_data['Criteria'] = label_encoder.fit_transform(sampled_data['Criteria'])\n",
    "\n",
    "# Initialize MinMaxScaler\n",
    "scaler = MinMaxScaler(feature_range=(0, 1))\n",
    "\n",
    "# Scale the data\n",
    "scaled_sampled_data = scaler.fit_transform(sampled_filtered_data[['Degree', 'Length', 'Thickness', 'Thickness_Difference', 'Original Thickness', 'Year']])\n"
   ]
  },
  {
   "cell_type": "code",
   "execution_count": 62,
   "id": "39fc0ee8-9a25-4c4d-9557-f2a6d5ece742",
   "metadata": {
    "tags": []
   },
   "outputs": [],
   "source": [
    "# Sampled Dataset\n",
    "# Function to create dataset for LSTM\n",
    "def create_dataset(dataset, look_back=1):\n",
    "    X, Y = [], []\n",
    "    for i in range(len(dataset)-look_back-1):\n",
    "        a = dataset[i:(i+look_back), :]\n",
    "        X.append(a)\n",
    "        Y.append(dataset[i + look_back, -1])\n",
    "    return np.array(X), np.array(Y)"
   ]
  },
  {
   "cell_type": "code",
   "execution_count": 63,
   "id": "2d0d434e-9303-4f90-8c29-a07527834a04",
   "metadata": {
    "tags": []
   },
   "outputs": [],
   "source": [
    "# Sampled Dataset\n",
    "# Prepare the data for testing\n",
    "look_back = 3  # Ensure same as used in model training\n",
    "X_sampled, y_sampled = create_dataset(scaled_sampled_data, look_back)\n"
   ]
  },
  {
   "cell_type": "code",
   "execution_count": 64,
   "id": "a69734ed-c6b1-4843-bf10-6ffe98e63c81",
   "metadata": {
    "tags": []
   },
   "outputs": [],
   "source": [
    "# Sampled Dataset\n",
    "# Reshape Data for LSTM\n",
    "X_sampled = X_sampled.reshape((X_sampled.shape[0], X_sampled.shape[1], X_sampled.shape[2]))\n"
   ]
  },
  {
   "cell_type": "code",
   "execution_count": 65,
   "id": "adbf180e-7ad7-4d52-b4f8-ac08fcf2c221",
   "metadata": {
    "tags": []
   },
   "outputs": [],
   "source": [
    "# Sampled Dataset\n",
    "# Binary Conversion for Testing\n",
    "THRESHOLD = 0.75  # The threshold used during training\n",
    "y_sampled_binary = (y_sampled > THRESHOLD).astype(int)\n"
   ]
  },
  {
   "cell_type": "code",
   "execution_count": 66,
   "id": "c43fd67e-404d-4827-9ae8-19cda4320e5e",
   "metadata": {
    "tags": []
   },
   "outputs": [
    {
     "name": "stdout",
     "output_type": "stream",
     "text": [
      "169/169 [==============================] - 2s 5ms/step\n",
      "Sampled Dataset Accuracy: 0.37787249814677537\n",
      "Sampled Dataset R-squared: -1.8281703968116059\n",
      "Confusion Matrix:\n",
      " [[ 555 3078]\n",
      " [ 279 1484]]\n"
     ]
    }
   ],
   "source": [
    "# Sampled Dataset\n",
    "# Evaluate Model on Sampled Data\n",
    "# Load the trained model\n",
    "best_model_val_loss = load_model('best_model_val_loss.h5')\n",
    "# model = load_model('best_model_val_loss.h5')\n",
    "\n",
    "# Predictions\n",
    "sampled_predictions = best_model_val_loss.predict(X_sampled)\n",
    "sampled_predictions_binary = (sampled_predictions > 0.5).astype(int)\n",
    "\n",
    "# Evaluation Metrics\n",
    "sampled_accuracy = accuracy_score(y_sampled_binary, sampled_predictions_binary)\n",
    "print(f'Sampled Dataset Accuracy: {sampled_accuracy}')\n",
    "\n",
    "# R-squared Value\n",
    "sampled_r_squared = r2_score(y_sampled_binary, sampled_predictions_binary)\n",
    "print(f'Sampled Dataset R-squared: {sampled_r_squared}')\n",
    "\n",
    "# Confusion Matrix\n",
    "cm = confusion_matrix(y_sampled_binary, sampled_predictions_binary)\n",
    "print(\"Confusion Matrix:\\n\", cm)\n"
   ]
  },
  {
   "cell_type": "markdown",
   "id": "1f70d55a-ecb0-446c-9009-29be6090d89b",
   "metadata": {},
   "source": [
    "# End of Sampled Dataset"
   ]
  },
  {
   "cell_type": "code",
   "execution_count": 67,
   "id": "5ad514b8-153a-4e47-8471-c611c1f0acc5",
   "metadata": {},
   "outputs": [],
   "source": [
    "# Load the best model saved by checkpoint\n",
    "best_model_val_loss = load_model('best_model_val_loss.h5')\n",
    "# best_model = load_model('best_model.keras')\n"
   ]
  },
  {
   "cell_type": "code",
   "execution_count": 68,
   "id": "d7d888b9-f983-4dd4-a50d-4f7bb5e1b345",
   "metadata": {
    "tags": []
   },
   "outputs": [
    {
     "name": "stdout",
     "output_type": "stream",
     "text": [
      "2700/2700 [==============================] - 13s 4ms/step\n",
      "675/675 [==============================] - 3s 5ms/step\n"
     ]
    }
   ],
   "source": [
    "# Make predictions with the trained model\n",
    "train_predictions = best_model_val_loss.predict(X_train)\n",
    "test_predictions = best_model_val_loss.predict(X_test)\n"
   ]
  },
  {
   "cell_type": "code",
   "execution_count": 69,
   "id": "je6xmjg37eED",
   "metadata": {
    "colab": {
     "base_uri": "https://localhost:8080/"
    },
    "executionInfo": {
     "elapsed": 76704,
     "status": "ok",
     "timestamp": 1704273601483,
     "user": {
      "displayName": "lee armstrong",
      "userId": "10522861586921998093"
     },
     "user_tz": -480
    },
    "id": "je6xmjg37eED",
    "outputId": "2e46146e-2aab-4d23-b40b-919a4d8cf89d",
    "tags": []
   },
   "outputs": [
    {
     "name": "stdout",
     "output_type": "stream",
     "text": [
      "Train Accuracy: 0.9999884253900644\n",
      "Test Accuracy: 0.9999537037037037\n"
     ]
    }
   ],
   "source": [
    "# Model Evaluation\n",
    "train_accuracy = accuracy_score(y_train_binary, np.round(train_predictions))\n",
    "test_accuracy = accuracy_score(y_test_binary, np.round(test_predictions))\n",
    "print(f'Train Accuracy: {train_accuracy}')\n",
    "print(f'Test Accuracy: {test_accuracy}')\n"
   ]
  },
  {
   "cell_type": "code",
   "execution_count": 70,
   "id": "aa5f2d24-5707-4c2d-a042-8f114a3ff081",
   "metadata": {
    "tags": []
   },
   "outputs": [
    {
     "name": "stdout",
     "output_type": "stream",
     "text": [
      "R-squared: 0.9999110989640264\n"
     ]
    }
   ],
   "source": [
    "# Calculate and print the R-squared value \n",
    "r_squared = r2_score(y_test_binary, test_predictions)\n",
    "# r_squared = r2_score(y_test_binary, test_predictions_binary)\n",
    "print(f'R-squared: {r_squared}')\n"
   ]
  },
  {
   "cell_type": "code",
   "execution_count": 71,
   "id": "8831128c-0d9b-45a4-a443-6bcb4f387945",
   "metadata": {},
   "outputs": [
    {
     "name": "stdout",
     "output_type": "stream",
     "text": [
      "Test Loss: 5.104922456666827e-05, Test Accuracy: 0.9999536871910095\n"
     ]
    }
   ],
   "source": [
    "# Evaluate the model\n",
    "loss, accuracy = best_model_val_loss.evaluate(X_test, y_test_binary, verbose=0)\n",
    "# loss, accuracy = best_model_val_loss.evaluate(X_test, y_test, verbose=0)\n",
    "print(f'Test Loss: {loss}, Test Accuracy: {accuracy}')\n"
   ]
  },
  {
   "cell_type": "code",
   "execution_count": 72,
   "id": "73b510ba-e251-4087-a43b-5fddd9dacb01",
   "metadata": {},
   "outputs": [
    {
     "data": {
      "text/plain": [
       "[<matplotlib.lines.Line2D at 0x22cfa0ca410>]"
      ]
     },
     "execution_count": 72,
     "metadata": {},
     "output_type": "execute_result"
    },
    {
     "data": {
      "image/png": "[encoded data removed]",
      "text/plain": [
       "<Figure size 640x480 with 1 Axes>"
      ]
     },
     "metadata": {},
     "output_type": "display_data"
    }
   ],
   "source": [
    "# Visualize training history\n",
    "plt.plot(history.history['accuracy'])\n",
    "plt.plot(history.history['val_accuracy'])"
   ]
  },
  {
   "cell_type": "markdown",
   "id": "50eb15ff-7211-46df-8ab7-d1c7b0480399",
   "metadata": {},
   "source": [
    "# # Prediction and Analysis"
   ]
  },
  {
   "cell_type": "code",
   "execution_count": 73,
   "id": "deacec85-20f8-4b04-8211-6ebb37e30f75",
   "metadata": {},
   "outputs": [
    {
     "name": "stdout",
     "output_type": "stream",
     "text": [
      "675/675 [==============================] - 3s 5ms/step\n"
     ]
    }
   ],
   "source": [
    "# Make predictions with the best model\n",
    "predictions = best_model_val_loss.predict(X_test)"
   ]
  },
  {
   "cell_type": "code",
   "execution_count": 74,
   "id": "241d56ca-9e52-42a0-abac-08908678b47a",
   "metadata": {},
   "outputs": [
    {
     "data": {
      "image/png": "[encoded data removed]",
      "text/plain": [
       "<Figure size 800x600 with 2 Axes>"
      ]
     },
     "metadata": {},
     "output_type": "display_data"
    }
   ],
   "source": [
    "# Confusion matrix\n",
    "# Convert predictions to binary\n",
    "binary_predictions = (predictions > 0.5).astype(int)\n",
    "\n",
    "# Compute the confusion matrix\n",
    "cm = confusion_matrix(y_test_binary, binary_predictions)\n",
    "\n",
    "# Plot the confusion matrix\n",
    "plt.figure(figsize=(8, 6))\n",
    "sns.heatmap(cm, annot=True, fmt='d')\n",
    "# sns.heatmap(cm, annot=True, fmt='d', cmap='Blues')\n",
    "plt.title('Confusion Matrix')\n",
    "plt.ylabel('Actual Label')\n",
    "plt.xlabel('Predicted Label')\n",
    "\n",
    "# plt.savefig('F6_Transformed_Data_Confusion_Matrix.png')\n",
    "plt.show()\n"
   ]
  },
  {
   "cell_type": "code",
   "execution_count": 75,
   "id": "96cc9ffb-7287-4a0d-b54f-fe3486f44c55",
   "metadata": {},
   "outputs": [
    {
     "data": {
      "image/png": "[encoded data removed]",
      "text/plain": [
       "<Figure size 800x600 with 1 Axes>"
      ]
     },
     "metadata": {},
     "output_type": "display_data"
    }
   ],
   "source": [
    "# Precision-recall curve\n",
    "# Compute precision-recall pairs for different probability thresholds\n",
    "precision, recall, thresholds = precision_recall_curve(y_test_binary, predictions)\n",
    "# precision, recall, thresholds = precision_recall_curve(y_test_binary, test_predictions.ravel())\n",
    "\n",
    "# Compute the area under the curve\n",
    "auc_score = auc(recall, precision)\n",
    "\n",
    "# Plot the precision-recall curve\n",
    "plt.figure(figsize=(8, 6))\n",
    "plt.plot(recall, precision, marker='.')\n",
    "plt.title('Precision-Recall Curve - AUC: {:.2f}'.format(auc_score))\n",
    "# plt.title(f'Precision-Recall Curve - AUC: {auc_score:.2f}')\n",
    "plt.xlabel('Recall')\n",
    "plt.ylabel('Precision')\n",
    "\n",
    "# plt.savefig('F6_Transformed_Data_Precision-Recall_Curve.png')\n",
    "plt.show()\n"
   ]
  },
  {
   "cell_type": "code",
   "execution_count": 76,
   "id": "4b942848-110d-45e8-afd1-74b871ae67b0",
   "metadata": {},
   "outputs": [
    {
     "name": "stdout",
     "output_type": "stream",
     "text": [
      "675/675 [==============================] - 3s 4ms/step\n"
     ]
    },
    {
     "data": {
      "image/png": "[encoded data removed]",
      "text/plain": [
       "<Figure size 1200x600 with 1 Axes>"
      ]
     },
     "metadata": {},
     "output_type": "display_data"
    }
   ],
   "source": [
    "# Visualising model predictions\n",
    "predictions = best_model_val_loss.predict(X_test)\n",
    "plt.figure(figsize=(12, 6))\n",
    "plt.plot(y_test_binary, label='Actual')  # Corrected variable name\n",
    "plt.plot(predictions.ravel(), label='Predicted')  # Flatten predictions for plotting\n",
    "plt.title('Model Predictions vs Actual Data')\n",
    "plt.legend()\n",
    "\n",
    "# plt.savefig('F6_Transformed_Data_Model_Predictions_vs_Actual_Data.png')\n",
    "plt.show()\n"
   ]
  },
  {
   "cell_type": "code",
   "execution_count": 77,
   "id": "ZCqvCUTL7jzF",
   "metadata": {
    "colab": {
     "base_uri": "https://localhost:8080/",
     "height": 564
    },
    "executionInfo": {
     "elapsed": 1659,
     "status": "ok",
     "timestamp": 1704273603127,
     "user": {
      "displayName": "lee armstrong",
      "userId": "10522861586921998093"
     },
     "user_tz": -480
    },
    "id": "ZCqvCUTL7jzF",
    "outputId": "7e311ae0-953e-493c-9ba2-13ecc0e0e33c",
    "tags": []
   },
   "outputs": [
    {
     "data": {
      "image/png": "[encoded data removed]",
      "text/plain": [
       "<Figure size 1200x600 with 2 Axes>"
      ]
     },
     "metadata": {},
     "output_type": "display_data"
    }
   ],
   "source": [
    "# Training History Visualisation\n",
    "plt.figure(figsize=(12, 6))\n",
    "plt.subplot(1, 2, 1)\n",
    "plt.plot(history.history['accuracy'])\n",
    "plt.plot(history.history['val_accuracy'])\n",
    "plt.title('Model Accuracy')\n",
    "plt.ylabel('Accuracy')\n",
    "plt.xlabel('Epoch')\n",
    "plt.legend(['Train', 'Test'], loc='upper left')\n",
    "# plt.legend(['Train', 'Validation'], loc='upper left')\n",
    "\n",
    "plt.subplot(1, 2, 2)\n",
    "plt.plot(history.history['loss'])\n",
    "plt.plot(history.history['val_loss'])\n",
    "plt.title('Model Loss')\n",
    "plt.ylabel('Loss')\n",
    "plt.xlabel('Epoch')\n",
    "plt.legend(['Train', 'Test'], loc='upper left')\n",
    "# plt.legend(['Train', 'Validation'], loc='upper left')\n",
    "plt.show()\n",
    "\n",
    "# plt.savefig('F6_Transformed_Data_Training_History_Visualisation.png')\n",
    "plt.show()\n"
   ]
  },
  {
   "cell_type": "code",
   "execution_count": 78,
   "id": "efc3f307-7a59-495a-b470-8262667e3fb3",
   "metadata": {
    "executionInfo": {
     "elapsed": 580,
     "status": "ok",
     "timestamp": 1704273603698,
     "user": {
      "displayName": "lee armstrong",
      "userId": "10522861586921998093"
     },
     "user_tz": -480
    },
    "id": "efc3f307-7a59-495a-b470-8262667e3fb3",
    "tags": []
   },
   "outputs": [],
   "source": [
    "# Stop the Spark Session\n",
    "spark.stop()\n"
   ]
  },
  {
   "cell_type": "code",
   "execution_count": null,
   "id": "159fa1e5-4ac1-48b5-8e69-f7123f6c32e4",
   "metadata": {
    "executionInfo": {
     "elapsed": 7,
     "status": "ok",
     "timestamp": 1704273603698,
     "user": {
      "displayName": "lee armstrong",
      "userId": "10522861586921998093"
     },
     "user_tz": -480
    },
    "id": "159fa1e5-4ac1-48b5-8e69-f7123f6c32e4"
   },
   "outputs": [],
   "source": []
  }
 ],
 "metadata": {
  "colab": {
   "provenance": [
    {
     "file_id": "12vvXnYAsp-7SHwZMaikEyeFBf3CIJg1t",
     "timestamp": 1704270605443
    }
   ]
  },
  "kernelspec": {
   "display_name": "Python 3 (ipykernel)",
   "language": "python",
   "name": "python3"
  },
  "language_info": {
   "codemirror_mode": {
    "name": "ipython",
    "version": 3
   },
   "file_extension": ".py",
   "mimetype": "text/x-python",
   "name": "python",
   "nbconvert_exporter": "python",
   "pygments_lexer": "ipython3",
   "version": "3.11.4"
  }
 },
 "nbformat": 4,
 "nbformat_minor": 5
}

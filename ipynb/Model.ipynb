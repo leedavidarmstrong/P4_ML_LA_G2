{
 "cells": [
  {
   "cell_type": "markdown",
   "id": "7f2c3211",
   "metadata": {
    "id": "7f2c3211"
   },
   "source": [
    "\n",
    "# Model\n"
   ]
  },
  {
   "cell_type": "code",
   "execution_count": 1,
   "id": "b334d647-ba3d-43af-a6ad-9aa61d457b3a",
   "metadata": {
    "executionInfo": {
     "elapsed": 7039,
     "status": "ok",
     "timestamp": 1704272829414,
     "user": {
      "displayName": "lee armstrong",
      "userId": "10522861586921998093"
     },
     "user_tz": -480
    },
    "id": "b334d647-ba3d-43af-a6ad-9aa61d457b3a",
    "tags": []
   },
   "outputs": [
    {
     "name": "stdout",
     "output_type": "stream",
     "text": [
      "WARNING:tensorflow:From C:\\Users\\unsto\\anaconda3\\Lib\\site-packages\\keras\\src\\losses.py:2976: The name tf.losses.sparse_softmax_cross_entropy is deprecated. Please use tf.compat.v1.losses.sparse_softmax_cross_entropy instead.\n",
      "\n"
     ]
    }
   ],
   "source": [
    "# Import Libraries and Dependencies\n",
    "\n",
    "import findspark\n",
    "findspark.init()\n",
    "\n",
    "import os\n",
    "import pandas as pd\n",
    "import numpy as np\n",
    "import matplotlib.pyplot as plt\n",
    "import seaborn as sns\n",
    "\n",
    "from pyspark.sql import SparkSession\n",
    "from sklearn.preprocessing import MinMaxScaler, LabelEncoder\n",
    "from keras.models import Sequential, load_model\n",
    "from keras.layers import LSTM, Dense, Dropout, Bidirectional, BatchNormalization\n",
    "from sklearn.model_selection import train_test_split\n",
    "from keras.callbacks import EarlyStopping, ModelCheckpoint\n",
    "from keras.optimizers import Adam\n",
    "from sklearn.metrics import mean_squared_error, accuracy_score, confusion_matrix, precision_recall_curve, auc, r2_score\n",
    "from keras.regularizers import l1_l2\n"
   ]
  },
  {
   "cell_type": "code",
   "execution_count": 2,
   "id": "b7b4811e-6c06-41c1-ae43-6b1f588e4e82",
   "metadata": {},
   "outputs": [],
   "source": [
    "# Initialise Spark Session for large-scale data processing\n",
    "spark = SparkSession.builder.appName(\"LSTMModel\").getOrCreate()\n"
   ]
  },
  {
   "cell_type": "code",
   "execution_count": 3,
   "id": "b6d94740-2814-48db-b277-67d22cf96307",
   "metadata": {},
   "outputs": [],
   "source": [
    "# Read data using Spark\n",
    "df_spark = spark.read.csv('Data/F6_Transformed_Data.csv', header=True, inferSchema=True)\n",
    "# Preprocessing and transformation steps performed in the Data_Analysis.ipynb\n"
   ]
  },
  {
   "cell_type": "code",
   "execution_count": 4,
   "id": "5827e9b1-e4a4-4a00-91df-beaad96fb81c",
   "metadata": {},
   "outputs": [],
   "source": [
    "# Convert Spark DataFrame to Pandas DataFrame for easier manipulation\n",
    "data = df_spark.toPandas()"
   ]
  },
  {
   "cell_type": "code",
   "execution_count": 5,
   "id": "c8dab831-db4d-40b0-aa06-ea83b4349bc6",
   "metadata": {
    "executionInfo": {
     "elapsed": 8,
     "status": "ok",
     "timestamp": 1704272883191,
     "user": {
      "displayName": "lee armstrong",
      "userId": "10522861586921998093"
     },
     "user_tz": -480
    },
    "id": "c8dab831-db4d-40b0-aa06-ea83b4349bc6",
    "tags": []
   },
   "outputs": [],
   "source": [
    "# Data Preprocessing\n",
    "# Extracting the year from the date and filtering data based on specific years\n",
    "data['Year'] = pd.to_datetime(data['Date']).dt.year\n",
    "\n",
    "filtered_data = data[data['Year'].isin([2020, 2021, 2022, 2023, 2024, 2025])]\n"
   ]
  },
  {
   "cell_type": "code",
   "execution_count": 6,
   "id": "2d4e53d5-ec9d-4707-89f9-8ccc849bdf87",
   "metadata": {
    "tags": []
   },
   "outputs": [],
   "source": [
    "# # Feature Scaling - Normalising features to aid in model training\n",
    "# # Creating an instance of label encoder\n",
    "# label_encoder = LabelEncoder()\n",
    "\n",
    "# # Assuming 'Criteria' is a categorical column that needs to be converted\n",
    "# filtered_data['Criteria'] = label_encoder.fit_transform(filtered_data['Criteria'])\n",
    "\n",
    "# Initialize MinMaxScaler\n",
    "scaler = MinMaxScaler(feature_range=(0, 1))\n",
    "\n",
    "# Scale the data\n",
    "scaled_data = scaler.fit_transform(filtered_data[['Degree', 'Length', 'Thickness', 'Thickness_Difference', 'Original Thickness', 'Year']])\n",
    "#scaled_data = scaler.fit_transform(filtered_data[['Degree', 'Length', 'Thickness', 'Thickness_Difference', 'Original Thickness', 'Year', 'Criteria']])\n"
   ]
  },
  {
   "cell_type": "markdown",
   "id": "75dc988c-4fea-48a5-bb5f-013d4ab4673c",
   "metadata": {},
   "source": [
    "##### Function for time series forecasting tasks, to create input-output pairs for training a model. A look_back parameter controls how much historical data the model uses to make predictions, allowing for experimenting with different levels of temporal context to make predictions based on the dynamics of data over time."
   ]
  },
  {
   "cell_type": "code",
   "execution_count": 7,
   "id": "5deb046e-fd66-4a47-988f-17e4d05912e5",
   "metadata": {
    "executionInfo": {
     "elapsed": 7,
     "status": "ok",
     "timestamp": 1704272883192,
     "user": {
      "displayName": "lee armstrong",
      "userId": "10522861586921998093"
     },
     "user_tz": -480
    },
    "id": "5deb046e-fd66-4a47-988f-17e4d05912e5",
    "tags": []
   },
   "outputs": [],
   "source": [
    "# Function to create a dataset suitable for LSTM training\n",
    "def create_dataset(dataset, look_back=1):\n",
    "    X, Y = [], []\n",
    "    for i in range(len(dataset)-look_back-1):\n",
    "        a = dataset[i:(i+look_back), :]\n",
    "        X.append(a)\n",
    "        Y.append(dataset[i + look_back, -1])  # Modify to select the appropriate target variable\n",
    "    return np.array(X), np.array(Y)"
   ]
  },
  {
   "cell_type": "markdown",
   "id": "80ce9e93-1446-42c8-907b-169c616e5ba3",
   "metadata": {},
   "source": [
    "##### Organizing time series data into sequences of a fixed length (look_back) to train an LSTM model for tasks like time series forecasting or sequence prediction, allowing the model to learn patterns and relationships in the data over a specific time window."
   ]
  },
  {
   "cell_type": "code",
   "execution_count": 8,
   "id": "80d41f04-bd93-42bd-8a64-2ee8f061a2c2",
   "metadata": {
    "executionInfo": {
     "elapsed": 553,
     "status": "ok",
     "timestamp": 1704272883739,
     "user": {
      "displayName": "lee armstrong",
      "userId": "10522861586921998093"
     },
     "user_tz": -480
    },
    "id": "80d41f04-bd93-42bd-8a64-2ee8f061a2c2",
    "tags": []
   },
   "outputs": [],
   "source": [
    "# Preparing data for LSTM model\n",
    "look_back = 3\n",
    "X, y = create_dataset(scaled_data, look_back)"
   ]
  },
  {
   "cell_type": "markdown",
   "id": "09b95f14-7d59-4fc3-9cc3-ef196780087e",
   "metadata": {},
   "source": [
    "##### Binary classification by defining a threshold for target variables and splitting the dataset into training and testing sets.\n",
    "##### Set a threshold value of 0.75. This threshold is used to convert regression problem into a binary classification problem, any target value (y) less than 0.75 will be classified as 1, and any value greater than or equal to 0.75 will be classified as 0."
   ]
  },
  {
   "cell_type": "markdown",
   "id": "a0aa486a-86ba-48c5-8648-d3c3942a7ed6",
   "metadata": {},
   "source": [
    "###### The test_size parameter specifies the proportion of the data to be used for testing (in this case, 20%), and random_state ensures reproducibility by seeding the random number generator."
   ]
  },
  {
   "cell_type": "markdown",
   "id": "7cb50093-1fbd-4f24-bde7-10f66c21d25f",
   "metadata": {},
   "source": [
    "###### X_train and y_train_binary for training the binary classification model, and X_test and y_test_binary are for evaluating performance on unseen data."
   ]
  },
  {
   "cell_type": "code",
   "execution_count": 9,
   "id": "1b012742-3b38-49da-acb4-b6c8f5022e80",
   "metadata": {},
   "outputs": [],
   "source": [
    "# Defining a threshold for classification\n",
    "THRESHOLD = 0.75\n",
    "y_binary = np.where(y < THRESHOLD, 1, 0)\n",
    "# y_train_binary = (y_train > THRESHOLD).astype(int)\n",
    "# y_test_binary = (y_test > THRESHOLD).astype(int)\n",
    "\n",
    "# Splitting the dataset into training and testing sets\n",
    "X_train, X_test, y_train_binary, y_test_binary = train_test_split(X, y_binary, test_size=0.2, random_state=42)\n"
   ]
  },
  {
   "cell_type": "markdown",
   "id": "b9d215a7-9279-4314-b289-7ac3428637cc",
   "metadata": {},
   "source": [
    "###### Reshaping data for LSTM input, reshaping is necessary because LSTM models in Keras expect input data to be in the shape (samples, time_steps, features). This ensures that both the training and testing data have the appropriate shape before feeding them into the LSTM model."
   ]
  },
  {
   "cell_type": "code",
   "execution_count": 10,
   "id": "62f1a42f-46e3-48bc-8b06-a1379d5c9bff",
   "metadata": {},
   "outputs": [],
   "source": [
    "# Reshaping data for LSTM input\n",
    "# X_train = np.reshape(X_train, (X_train.shape[0], X_train.shape[1], 3))\n",
    "# X_test = np.reshape(X_test, (X_test.shape[0], X_test.shape[1], 3))\n",
    "X_train = np.reshape(X_train, (X_train.shape[0], X_train.shape[1], X.shape[2]))\n",
    "X_test = np.reshape(X_test, (X_test.shape[0], X_test.shape[1], X.shape[2]))\n"
   ]
  },
  {
   "cell_type": "code",
   "execution_count": 11,
   "id": "d4110d93-7f57-4ff0-92ed-1ca3323319a1",
   "metadata": {
    "executionInfo": {
     "elapsed": 1592,
     "status": "ok",
     "timestamp": 1704272885327,
     "user": {
      "displayName": "lee armstrong",
      "userId": "10522861586921998093"
     },
     "user_tz": -480
    },
    "id": "d4110d93-7f57-4ff0-92ed-1ca3323319a1",
    "tags": []
   },
   "outputs": [],
   "source": [
    "\n",
    "# # # LSTM Model Optimisation in Notepad\n"
   ]
  },
  {
   "cell_type": "code",
   "execution_count": 13,
   "id": "fc9a8ad9-c624-472b-b7c2-7a446e3d7919",
   "metadata": {},
   "outputs": [
    {
     "name": "stdout",
     "output_type": "stream",
     "text": [
      "WARNING:tensorflow:From C:\\Users\\unsto\\anaconda3\\Lib\\site-packages\\keras\\src\\backend.py:873: The name tf.get_default_graph is deprecated. Please use tf.compat.v1.get_default_graph instead.\n",
      "\n"
     ]
    }
   ],
   "source": [
    "# LSTM Model\n",
    "model = Sequential()\n",
    "model.add(Bidirectional(LSTM(128, return_sequences=True), input_shape=(look_back, X_train.shape[2])))\n",
    "model.add(Dropout(0.3))\n",
    "model.add(Bidirectional(LSTM(64)))\n",
    "model.add(Dropout(0.3))\n",
    "model.add(Dense(32, activation='relu'))\n",
    "model.add(Dense(1, activation='sigmoid'))\n",
    "model.compile(optimizer=Adam(learning_rate=0.001), loss='binary_crossentropy', metrics=['accuracy'])"
   ]
  },
  {
   "cell_type": "markdown",
   "id": "7f2f1fbd-2d52-452b-89c2-451d57a7275d",
   "metadata": {},
   "source": [
    "###### Creating an instance of the Adam optimizer with a learning rate of 0.0005. The learning rate is a hyperparameter that controls how much to change the model in response to the estimated error each time the model weights are updated. \n",
    "###### Then compiling the model with the previously defined Adam optimizer. "
   ]
  },
  {
   "cell_type": "code",
   "execution_count": 14,
   "id": "fb6ca709-14a0-48ff-857d-f25b32d45ccc",
   "metadata": {
    "executionInfo": {
     "elapsed": 3,
     "status": "ok",
     "timestamp": 1704272885327,
     "user": {
      "displayName": "lee armstrong",
      "userId": "10522861586921998093"
     },
     "user_tz": -480
    },
    "id": "fb6ca709-14a0-48ff-857d-f25b32d45ccc",
    "tags": []
   },
   "outputs": [],
   "source": [
    "# Compiling the model for binary classification\n",
    "adam_optimizer = Adam(learning_rate=0.0005)  # Adjust learning rate for optimisation\n",
    "model.compile(optimizer=adam_optimizer, loss='binary_crossentropy', metrics=['accuracy'])\n",
    "# model.compile(loss='binary_crossentropy', optimizer='adam', metrics=['accuracy'])\n"
   ]
  },
  {
   "cell_type": "markdown",
   "id": "c1272fec-4ba0-4c18-8c08-87be3af15dc0",
   "metadata": {},
   "source": [
    "##### Using EarlyStopping to monitor the validation loss (val_loss). The patience parameter is set to 10, which means the training will stop if the validation loss does not improve for 10 consecutive epochs. "
   ]
  },
  {
   "cell_type": "code",
   "execution_count": 15,
   "id": "6bef261c-26ea-4d5b-8509-6834e4c21847",
   "metadata": {},
   "outputs": [],
   "source": [
    "# Early stopping to prevent overfitting and checkpointing to save the best model\n",
    "early_stopping = EarlyStopping(monitor='val_loss', patience=10, restore_best_weights=True)\n",
    "\n",
    "# Set up a model checkpoint that saves the model to the file\n",
    "checkpoint_loss = ModelCheckpoint('best_model_val_loss.h5', monitor='val_loss', save_best_only=True)\n",
    "# model_checkpoint = ModelCheckpoint('best_model.keras', monitor='val_loss', save_best_only=True)\n",
    "\n",
    "# checkpoint_acc = ModelCheckpoint('best_model_accuracy.h5', monitor='accuracy', save_best_only=True)\n",
    "# model_checkpoint = ModelCheckpoint('best_model.keras', monitor='accuracy', save_best_only=True)\n"
   ]
  },
  {
   "cell_type": "code",
   "execution_count": 16,
   "id": "5f03c515-c63e-48b6-a9c9-d40ec342db66",
   "metadata": {},
   "outputs": [
    {
     "name": "stdout",
     "output_type": "stream",
     "text": [
      "Epoch 1/100\n",
      "WARNING:tensorflow:From C:\\Users\\unsto\\anaconda3\\Lib\\site-packages\\keras\\src\\utils\\tf_utils.py:492: The name tf.ragged.RaggedTensorValue is deprecated. Please use tf.compat.v1.ragged.RaggedTensorValue instead.\n",
      "\n",
      "WARNING:tensorflow:From C:\\Users\\unsto\\anaconda3\\Lib\\site-packages\\keras\\src\\engine\\base_layer_utils.py:384: The name tf.executing_eagerly_outside_functions is deprecated. Please use tf.compat.v1.executing_eagerly_outside_functions instead.\n",
      "\n",
      "2160/2160 [==============================] - 33s 12ms/step - loss: 0.0117 - accuracy: 0.9982 - val_loss: 8.2071e-04 - val_accuracy: 0.9999\n",
      "Epoch 2/100\n",
      "   6/2160 [..............................] - ETA: 22s - loss: 6.0263e-06 - accuracy: 1.0000"
     ]
    },
    {
     "name": "stderr",
     "output_type": "stream",
     "text": [
      "C:\\Users\\unsto\\anaconda3\\Lib\\site-packages\\keras\\src\\engine\\training.py:3103: UserWarning: You are saving your model as an HDF5 file via `model.save()`. This file format is considered legacy. We recommend using instead the native Keras format, e.g. `model.save('my_model.keras')`.\n",
      "  saving_api.save_model(\n"
     ]
    },
    {
     "name": "stdout",
     "output_type": "stream",
     "text": [
      "2160/2160 [==============================] - 23s 11ms/step - loss: 7.5867e-04 - accuracy: 0.9999 - val_loss: 7.3886e-04 - val_accuracy: 0.9999\n",
      "Epoch 3/100\n",
      "2160/2160 [==============================] - 22s 10ms/step - loss: 4.8491e-04 - accuracy: 0.9999 - val_loss: 8.1469e-04 - val_accuracy: 0.9999\n",
      "Epoch 4/100\n",
      "2160/2160 [==============================] - 22s 10ms/step - loss: 9.9711e-06 - accuracy: 1.0000 - val_loss: 9.8688e-04 - val_accuracy: 0.9999\n",
      "Epoch 5/100\n",
      "2160/2160 [==============================] - 22s 10ms/step - loss: 9.1669e-04 - accuracy: 0.9999 - val_loss: 7.6863e-04 - val_accuracy: 0.9999\n",
      "Epoch 6/100\n",
      "2160/2160 [==============================] - 23s 11ms/step - loss: 8.4138e-06 - accuracy: 1.0000 - val_loss: 9.1780e-04 - val_accuracy: 0.9999\n",
      "Epoch 7/100\n",
      "2160/2160 [==============================] - 23s 11ms/step - loss: 1.4717e-06 - accuracy: 1.0000 - val_loss: 0.0010 - val_accuracy: 0.9999\n",
      "Epoch 8/100\n",
      "2160/2160 [==============================] - 24s 11ms/step - loss: 3.7607e-07 - accuracy: 1.0000 - val_loss: 0.0011 - val_accuracy: 0.9999\n",
      "Epoch 9/100\n",
      "2160/2160 [==============================] - 24s 11ms/step - loss: 1.3721e-07 - accuracy: 1.0000 - val_loss: 0.0012 - val_accuracy: 0.9999\n",
      "Epoch 10/100\n",
      "2160/2160 [==============================] - 24s 11ms/step - loss: 4.7017e-08 - accuracy: 1.0000 - val_loss: 0.0013 - val_accuracy: 0.9999\n",
      "Epoch 11/100\n",
      "2160/2160 [==============================] - 24s 11ms/step - loss: 3.2555e-08 - accuracy: 1.0000 - val_loss: 0.0014 - val_accuracy: 0.9999\n",
      "Epoch 12/100\n",
      "2160/2160 [==============================] - 24s 11ms/step - loss: 3.6166e-09 - accuracy: 1.0000 - val_loss: 0.0014 - val_accuracy: 0.9999\n"
     ]
    }
   ],
   "source": [
    "# Model Training with Early Stopping and Checkpointing\n",
    "history = model.fit(X_train, y_train_binary, epochs=100, batch_size=32, validation_split=0.2, callbacks=[early_stopping, checkpoint_loss])\n",
    "# history = model.fit(X_train, y_train, epochs=200, batch_size=32, validation_split=0.2, callbacks=[early_stopping, checkpoint_loss])\n"
   ]
  },
  {
   "cell_type": "markdown",
   "id": "8ad42926-09da-4e88-b54f-675d1cf4fe1e",
   "metadata": {},
   "source": [
    "# Model Evaluation"
   ]
  },
  {
   "cell_type": "markdown",
   "id": "cabe745e-6783-47f4-b6d4-0d413e91e308",
   "metadata": {},
   "source": [
    "# Testing LSTM model on a sampled dataset"
   ]
  },
  {
   "cell_type": "code",
   "execution_count": 17,
   "id": "78a89f28-3983-41e9-802a-9485cdded543",
   "metadata": {
    "tags": []
   },
   "outputs": [],
   "source": [
    "# Load the Sampled Dataset\n",
    "# Read data using Spark\n",
    "sampled_df_spark = spark.read.csv('Data/Sampled_F6_Transformed_Data.csv', header=True, inferSchema=True)\n",
    "# Preprocessing and transformation steps performed in the Data_Analysis.ipynb\n"
   ]
  },
  {
   "cell_type": "code",
   "execution_count": 18,
   "id": "5570d9a0-b800-45fd-a076-acf678e8f9fa",
   "metadata": {
    "tags": []
   },
   "outputs": [],
   "source": [
    "# Sampled Dataset\n",
    "# Convert Spark DataFrame to Pandas DataFrame for easier manipulation\n",
    "sampled_data = sampled_df_spark.toPandas()\n"
   ]
  },
  {
   "cell_type": "code",
   "execution_count": 19,
   "id": "3e7a8551-2192-4d72-b811-f122c928a91d",
   "metadata": {
    "tags": []
   },
   "outputs": [],
   "source": [
    "# Sampled Dataset\n",
    "# Data Preprocessing\n",
    "# Extracting the year from the date and filtering data based on specific years\n",
    "sampled_data['Year'] = pd.to_datetime(sampled_data['Date']).dt.year\n",
    "\n",
    "sampled_filtered_data = sampled_data[sampled_data['Year'].isin([2020, 2021, 2022, 2023, 2024, 2025])]\n"
   ]
  },
  {
   "cell_type": "code",
   "execution_count": 20,
   "id": "6a89f564-90e6-4d64-ac22-5f0f19f98484",
   "metadata": {
    "tags": []
   },
   "outputs": [],
   "source": [
    "# Sampled Dataset\n",
    "# # Feature Scaling - Normalising features to aid in model training\n",
    "# # Creating an instance of label encoder\n",
    "# label_encoder = LabelEncoder()\n",
    "\n",
    "# # Assuming 'Criteria' is a categorical column that needs to be converted\n",
    "# sampled_data['Criteria'] = label_encoder.fit_transform(sampled_data['Criteria'])\n",
    "\n",
    "# Initialize MinMaxScaler\n",
    "scaler = MinMaxScaler(feature_range=(0, 1))\n",
    "\n",
    "# Scale the data\n",
    "scaled_sampled_data = scaler.fit_transform(sampled_filtered_data[['Degree', 'Length', 'Thickness', 'Thickness_Difference', 'Original Thickness', 'Year']])\n"
   ]
  },
  {
   "cell_type": "code",
   "execution_count": 21,
   "id": "39fc0ee8-9a25-4c4d-9557-f2a6d5ece742",
   "metadata": {
    "tags": []
   },
   "outputs": [],
   "source": [
    "# Sampled Dataset\n",
    "# Function to create dataset for LSTM\n",
    "def create_dataset(dataset, look_back=1):\n",
    "    X, Y = [], []\n",
    "    for i in range(len(dataset)-look_back-1):\n",
    "        a = dataset[i:(i+look_back), :]\n",
    "        X.append(a)\n",
    "        Y.append(dataset[i + look_back, -1])\n",
    "    return np.array(X), np.array(Y)"
   ]
  },
  {
   "cell_type": "code",
   "execution_count": 22,
   "id": "2d0d434e-9303-4f90-8c29-a07527834a04",
   "metadata": {
    "tags": []
   },
   "outputs": [],
   "source": [
    "# Sampled Dataset\n",
    "# Prepare the data for testing\n",
    "look_back = 3  # Ensure same as used in model training\n",
    "X_sampled, y_sampled = create_dataset(scaled_sampled_data, look_back)\n"
   ]
  },
  {
   "cell_type": "code",
   "execution_count": 23,
   "id": "a69734ed-c6b1-4843-bf10-6ffe98e63c81",
   "metadata": {
    "tags": []
   },
   "outputs": [],
   "source": [
    "# Sampled Dataset\n",
    "# Reshape Data for LSTM\n",
    "X_sampled = X_sampled.reshape((X_sampled.shape[0], X_sampled.shape[1], X_sampled.shape[2]))\n"
   ]
  },
  {
   "cell_type": "code",
   "execution_count": 24,
   "id": "adbf180e-7ad7-4d52-b4f8-ac08fcf2c221",
   "metadata": {
    "tags": []
   },
   "outputs": [],
   "source": [
    "# Sampled Dataset\n",
    "# Binary Conversion for Testing\n",
    "THRESHOLD = 0.75  # The threshold used during training\n",
    "y_sampled_binary = (y_sampled > THRESHOLD).astype(int)\n"
   ]
  },
  {
   "cell_type": "code",
   "execution_count": 25,
   "id": "c43fd67e-404d-4827-9ae8-19cda4320e5e",
   "metadata": {
    "tags": []
   },
   "outputs": [
    {
     "name": "stdout",
     "output_type": "stream",
     "text": [
      "169/169 [==============================] - 2s 4ms/step\n",
      "Sampled Dataset Accuracy: 0.37787249814677537\n",
      "Sampled Dataset R-squared: -1.8281703968116059\n",
      "Confusion Matrix:\n",
      " [[ 538 3095]\n",
      " [ 262 1501]]\n"
     ]
    }
   ],
   "source": [
    "# Sampled Dataset\n",
    "# Evaluate Model on Sampled Data\n",
    "# Load the trained model\n",
    "best_model_val_loss = load_model('best_model_val_loss.h5')\n",
    "# model = load_model('best_model_val_loss.h5')\n",
    "\n",
    "# Predictions\n",
    "sampled_predictions = best_model_val_loss.predict(X_sampled)\n",
    "sampled_predictions_binary = (sampled_predictions > 0.5).astype(int)\n",
    "\n",
    "# Evaluation Metrics\n",
    "sampled_accuracy = accuracy_score(y_sampled_binary, sampled_predictions_binary)\n",
    "print(f'Sampled Dataset Accuracy: {sampled_accuracy}')\n",
    "\n",
    "# R-squared Value\n",
    "sampled_r_squared = r2_score(y_sampled_binary, sampled_predictions_binary)\n",
    "print(f'Sampled Dataset R-squared: {sampled_r_squared}')\n",
    "\n",
    "# Confusion Matrix\n",
    "cm = confusion_matrix(y_sampled_binary, sampled_predictions_binary)\n",
    "print(\"Confusion Matrix:\\n\", cm)\n"
   ]
  },
  {
   "cell_type": "markdown",
   "id": "1f70d55a-ecb0-446c-9009-29be6090d89b",
   "metadata": {},
   "source": [
    "# End of Sampled Dataset"
   ]
  },
  {
   "cell_type": "code",
   "execution_count": 26,
   "id": "5ad514b8-153a-4e47-8471-c611c1f0acc5",
   "metadata": {},
   "outputs": [],
   "source": [
    "# Load the best model saved by checkpoint\n",
    "best_model_val_loss = load_model('best_model_val_loss.h5')\n",
    "# best_model = load_model('best_model.keras')\n"
   ]
  },
  {
   "cell_type": "code",
   "execution_count": 27,
   "id": "d7d888b9-f983-4dd4-a50d-4f7bb5e1b345",
   "metadata": {
    "tags": []
   },
   "outputs": [
    {
     "name": "stdout",
     "output_type": "stream",
     "text": [
      "2700/2700 [==============================] - 12s 4ms/step\n",
      "675/675 [==============================] - 3s 4ms/step\n"
     ]
    }
   ],
   "source": [
    "# Make predictions with the trained model\n",
    "train_predictions = best_model_val_loss.predict(X_train)\n",
    "test_predictions = best_model_val_loss.predict(X_test)\n"
   ]
  },
  {
   "cell_type": "code",
   "execution_count": 28,
   "id": "je6xmjg37eED",
   "metadata": {
    "colab": {
     "base_uri": "https://localhost:8080/"
    },
    "executionInfo": {
     "elapsed": 76704,
     "status": "ok",
     "timestamp": 1704273601483,
     "user": {
      "displayName": "lee armstrong",
      "userId": "10522861586921998093"
     },
     "user_tz": -480
    },
    "id": "je6xmjg37eED",
    "outputId": "2e46146e-2aab-4d23-b40b-919a4d8cf89d",
    "tags": []
   },
   "outputs": [
    {
     "name": "stdout",
     "output_type": "stream",
     "text": [
      "Train Accuracy: 0.9999768507801287\n",
      "Test Accuracy: 0.9999537037037037\n"
     ]
    }
   ],
   "source": [
    "# Model Evaluation\n",
    "train_accuracy = accuracy_score(y_train_binary, np.round(train_predictions))\n",
    "test_accuracy = accuracy_score(y_test_binary, np.round(test_predictions))\n",
    "print(f'Train Accuracy: {train_accuracy}')\n",
    "print(f'Test Accuracy: {test_accuracy}')\n"
   ]
  },
  {
   "cell_type": "code",
   "execution_count": 29,
   "id": "aa5f2d24-5707-4c2d-a042-8f114a3ff081",
   "metadata": {
    "tags": []
   },
   "outputs": [
    {
     "name": "stdout",
     "output_type": "stream",
     "text": [
      "R-squared: 0.999793189772141\n"
     ]
    }
   ],
   "source": [
    "# Calculate and print the R-squared value \n",
    "r_squared = r2_score(y_test_binary, test_predictions)\n",
    "# r_squared = r2_score(y_test_binary, test_predictions_binary)\n",
    "print(f'R-squared: {r_squared}')\n"
   ]
  },
  {
   "cell_type": "code",
   "execution_count": 30,
   "id": "8831128c-0d9b-45a4-a443-6bcb4f387945",
   "metadata": {},
   "outputs": [
    {
     "name": "stdout",
     "output_type": "stream",
     "text": [
      "Test Loss: 0.00022499718761537224, Test Accuracy: 0.9999536871910095\n"
     ]
    }
   ],
   "source": [
    "# Evaluate the model\n",
    "loss, accuracy = best_model_val_loss.evaluate(X_test, y_test_binary, verbose=0)\n",
    "# loss, accuracy = best_model_val_loss.evaluate(X_test, y_test, verbose=0)\n",
    "print(f'Test Loss: {loss}, Test Accuracy: {accuracy}')\n"
   ]
  },
  {
   "cell_type": "code",
   "execution_count": 31,
   "id": "73b510ba-e251-4087-a43b-5fddd9dacb01",
   "metadata": {},
   "outputs": [
    {
     "data": {
      "text/plain": [
       "[<matplotlib.lines.Line2D at 0x277070b8890>]"
      ]
     },
     "execution_count": 31,
     "metadata": {},
     "output_type": "execute_result"
    },
    {
     "data": {
      "image/png": "[encoded data removed]",
      "text/plain": [
       "<Figure size 640x480 with 1 Axes>"
      ]
     },
     "metadata": {},
     "output_type": "display_data"
    }
   ],
   "source": [
    "# Visualize training history\n",
    "plt.plot(history.history['accuracy'])\n",
    "plt.plot(history.history['val_accuracy'])"
   ]
  },
  {
   "cell_type": "markdown",
   "id": "50eb15ff-7211-46df-8ab7-d1c7b0480399",
   "metadata": {},
   "source": [
    "# # Prediction and Analysis"
   ]
  },
  {
   "cell_type": "code",
   "execution_count": 32,
   "id": "deacec85-20f8-4b04-8211-6ebb37e30f75",
   "metadata": {},
   "outputs": [
    {
     "name": "stdout",
     "output_type": "stream",
     "text": [
      "675/675 [==============================] - 3s 4ms/step\n"
     ]
    }
   ],
   "source": [
    "# Make predictions with the best model\n",
    "predictions = best_model_val_loss.predict(X_test)"
   ]
  },
  {
   "cell_type": "code",
   "execution_count": 33,
   "id": "241d56ca-9e52-42a0-abac-08908678b47a",
   "metadata": {},
   "outputs": [
    {
     "data": {
      "image/png": "[encoded data removed]",
      "text/plain": [
       "<Figure size 800x600 with 2 Axes>"
      ]
     },
     "metadata": {},
     "output_type": "display_data"
    }
   ],
   "source": [
    "# Confusion matrix\n",
    "# Convert predictions to binary\n",
    "binary_predictions = (predictions > 0.5).astype(int)\n",
    "\n",
    "# Compute the confusion matrix\n",
    "cm = confusion_matrix(y_test_binary, binary_predictions)\n",
    "\n",
    "# Plot the confusion matrix\n",
    "plt.figure(figsize=(8, 6))\n",
    "sns.heatmap(cm, annot=True, fmt='d')\n",
    "# sns.heatmap(cm, annot=True, fmt='d', cmap='Blues')\n",
    "plt.title('Confusion Matrix')\n",
    "plt.ylabel('Actual Label')\n",
    "plt.xlabel('Predicted Label')\n",
    "\n",
    "# plt.savefig('Visualisations/F6_Transformed_Data_Confusion_Matrix.png')\n",
    "plt.show()\n"
   ]
  },
  {
   "cell_type": "code",
   "execution_count": 34,
   "id": "96cc9ffb-7287-4a0d-b54f-fe3486f44c55",
   "metadata": {},
   "outputs": [
    {
     "data": {
      "image/png": "[encoded data removed]",
      "text/plain": [
       "<Figure size 800x600 with 1 Axes>"
      ]
     },
     "metadata": {},
     "output_type": "display_data"
    }
   ],
   "source": [
    "# Precision-recall curve\n",
    "# Compute precision-recall pairs for different probability thresholds\n",
    "precision, recall, thresholds = precision_recall_curve(y_test_binary, predictions)\n",
    "# precision, recall, thresholds = precision_recall_curve(y_test_binary, test_predictions.ravel())\n",
    "\n",
    "# Compute the area under the curve\n",
    "auc_score = auc(recall, precision)\n",
    "\n",
    "# Plot the precision-recall curve\n",
    "plt.figure(figsize=(8, 6))\n",
    "plt.plot(recall, precision, marker='.')\n",
    "plt.title('Precision-Recall Curve - AUC: {:.2f}'.format(auc_score))\n",
    "# plt.title(f'Precision-Recall Curve - AUC: {auc_score:.2f}')\n",
    "plt.xlabel('Recall')\n",
    "plt.ylabel('Precision')\n",
    "\n",
    "# plt.savefig('Visualisations/F6_Transformed_Data_Precision-Recall_Curve.png')\n",
    "plt.show()\n"
   ]
  },
  {
   "cell_type": "code",
   "execution_count": 35,
   "id": "4b942848-110d-45e8-afd1-74b871ae67b0",
   "metadata": {},
   "outputs": [
    {
     "name": "stdout",
     "output_type": "stream",
     "text": [
      "675/675 [==============================] - 3s 4ms/step\n"
     ]
    },
    {
     "data": {
      "image/png": "[encoded data removed]",
      "text/plain": [
       "<Figure size 1200x600 with 1 Axes>"
      ]
     },
     "metadata": {},
     "output_type": "display_data"
    }
   ],
   "source": [
    "# Visualising model predictions\n",
    "predictions = best_model_val_loss.predict(X_test)\n",
    "plt.figure(figsize=(12, 6))\n",
    "plt.plot(y_test_binary, label='Actual')  # Corrected variable name\n",
    "plt.plot(predictions.ravel(), label='Predicted')  # Flatten predictions for plotting\n",
    "plt.title('Model Predictions vs Actual Data')\n",
    "plt.legend()\n",
    "\n",
    "# plt.savefig('Visualisations/F6_Transformed_Data_Model_Predictions_vs_Actual_Data.png')\n",
    "plt.show()\n"
   ]
  },
  {
   "cell_type": "code",
   "execution_count": 36,
   "id": "ZCqvCUTL7jzF",
   "metadata": {
    "colab": {
     "base_uri": "https://localhost:8080/",
     "height": 564
    },
    "executionInfo": {
     "elapsed": 1659,
     "status": "ok",
     "timestamp": 1704273603127,
     "user": {
      "displayName": "lee armstrong",
      "userId": "10522861586921998093"
     },
     "user_tz": -480
    },
    "id": "ZCqvCUTL7jzF",
    "outputId": "7e311ae0-953e-493c-9ba2-13ecc0e0e33c",
    "tags": []
   },
   "outputs": [
    {
     "data": {
      "image/png": "[encoded data removed]",
      "text/plain": [
       "<Figure size 1200x600 with 2 Axes>"
      ]
     },
     "metadata": {},
     "output_type": "display_data"
    }
   ],
   "source": [
    "# Training History Visualisation\n",
    "plt.figure(figsize=(12, 6))\n",
    "plt.subplot(1, 2, 1)\n",
    "plt.plot(history.history['accuracy'])\n",
    "plt.plot(history.history['val_accuracy'])\n",
    "plt.title('Model Accuracy')\n",
    "plt.ylabel('Accuracy')\n",
    "plt.xlabel('Epoch')\n",
    "plt.legend(['Train', 'Test'], loc='upper left')\n",
    "# plt.legend(['Train', 'Validation'], loc='upper left')\n",
    "\n",
    "plt.subplot(1, 2, 2)\n",
    "plt.plot(history.history['loss'])\n",
    "plt.plot(history.history['val_loss'])\n",
    "plt.title('Model Loss')\n",
    "plt.ylabel('Loss')\n",
    "plt.xlabel('Epoch')\n",
    "plt.legend(['Train', 'Test'], loc='upper left')\n",
    "# plt.legend(['Train', 'Validation'], loc='upper left')\n",
    "plt.show()\n",
    "\n",
    "# plt.savefig('Visualisations/F6_Transformed_Data_Training_History_Visualisation.png')\n",
    "plt.show()\n"
   ]
  },
  {
   "cell_type": "code",
   "execution_count": 37,
   "id": "efc3f307-7a59-495a-b470-8262667e3fb3",
   "metadata": {
    "executionInfo": {
     "elapsed": 580,
     "status": "ok",
     "timestamp": 1704273603698,
     "user": {
      "displayName": "lee armstrong",
      "userId": "10522861586921998093"
     },
     "user_tz": -480
    },
    "id": "efc3f307-7a59-495a-b470-8262667e3fb3",
    "tags": []
   },
   "outputs": [],
   "source": [
    "# Stop the Spark Session\n",
    "spark.stop()\n"
   ]
  },
  {
   "cell_type": "code",
   "execution_count": null,
   "id": "159fa1e5-4ac1-48b5-8e69-f7123f6c32e4",
   "metadata": {
    "executionInfo": {
     "elapsed": 7,
     "status": "ok",
     "timestamp": 1704273603698,
     "user": {
      "displayName": "lee armstrong",
      "userId": "10522861586921998093"
     },
     "user_tz": -480
    },
    "id": "159fa1e5-4ac1-48b5-8e69-f7123f6c32e4"
   },
   "outputs": [],
   "source": []
  }
 ],
 "metadata": {
  "colab": {
   "provenance": [
    {
     "file_id": "12vvXnYAsp-7SHwZMaikEyeFBf3CIJg1t",
     "timestamp": 1704270605443
    }
   ]
  },
  "kernelspec": {
   "display_name": "Python 3 (ipykernel)",
   "language": "python",
   "name": "python3"
  },
  "language_info": {
   "codemirror_mode": {
    "name": "ipython",
    "version": 3
   },
   "file_extension": ".py",
   "mimetype": "text/x-python",
   "name": "python",
   "nbconvert_exporter": "python",
   "pygments_lexer": "ipython3",
   "version": "3.11.4"
  }
 },
 "nbformat": 4,
 "nbformat_minor": 5
}
